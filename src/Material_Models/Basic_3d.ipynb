using Ferrite, SparseArrays

grid = generate_grid(Quadrilateral, (20,20));

ip = 